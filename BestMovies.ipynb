{
 "cells": [
  {
   "cell_type": "code",
   "execution_count": 22,
   "metadata": {},
   "outputs": [],
   "source": [
    "from bs4 import BeautifulSoup\n",
    "import pandas as pd\n",
    "import time\n",
    "import datetime\n",
    "import csv\n",
    "from requests_html import HTMLSession\n",
    "import requests, openpyxl\n",
    "import smtplib\n",
    "import numpy as np"
   ]
  },
  {
   "cell_type": "code",
   "execution_count": 23,
   "metadata": {},
   "outputs": [
    {
     "name": "stdout",
     "output_type": "stream",
     "text": [
      "['Sheet']\n"
     ]
    }
   ],
   "source": [
    "file = openpyxl.Workbook()\n",
    "print(file.sheetnames)\n"
   ]
  },
  {
   "cell_type": "code",
   "execution_count": 24,
   "metadata": {},
   "outputs": [
    {
     "name": "stdout",
     "output_type": "stream",
     "text": [
      "['Best movies of all time']\n"
     ]
    }
   ],
   "source": [
    "sheet = file.active\n",
    "sheet.title = 'Best movies of all time'\n",
    "print(file.sheetnames)"
   ]
  },
  {
   "cell_type": "code",
   "execution_count": 25,
   "metadata": {},
   "outputs": [
    {
     "name": "stdout",
     "output_type": "stream",
     "text": [
      "100 best movies of all time\n",
      "#100. Amadeus (1984)\n",
      "#99. The Hurt Locker (2008)\n",
      "#98. Mad Max: Fury Road (2015)\n",
      "#97. The Truman Show (1998)\n",
      "#96. Finding Nemo (2003)\n",
      "#95. The Silence of the Lambs (1991)\n",
      "#94. The Circus (1928)\n",
      "#93. Stagecoach (1939)\n",
      "#92. The Producers (1967)\n",
      "#91. Little Women (2019)\n",
      "#90. Days of Heaven (1978)\n",
      "#89. The Best Years of Our Lives (1946)\n",
      "#88. The Diving Bell and the Butterfly (2007)\n",
      "#87. On the Waterfront (1954)\n",
      "#86. Cool Hand Luke (1967)\n",
      "#85. Annie Hall (1977)\n",
      "#84. Crouching Tiger, Hidden Dragon (2000)\n",
      "#83. L.A. Confidential (1997)\n",
      "#82. The Social Network (2010)\n",
      "#81. No Country for Old Men (2007)\n",
      "#80. Eternal Sunshine of the Spotless Mind (2004)\n",
      "#79. Back to the Future (1985)\n",
      "#78. Nashville (1975)\n",
      "#77. The Last Picture Show (1971)\n",
      "#76. Shadow of a Doubt (1943)\n",
      "#75. The Manchurian Candidate (1962)\n",
      "#74. The Searchers (1956)\n",
      "#73. My Fair Lady (1964)\n",
      "#72. Pinocchio (1940)\n",
      "#71. Roma (2018)\n",
      "#70. Before Midnight (2013)\n",
      "#69. Moonlight (2016)\n",
      "#68. Platoon (1986)\n",
      "#67. La La Land (2016)\n",
      "#66. Dunkirk (2017)\n",
      "#65. Whiplash (2014)\n",
      "#64. Gravity (2013)\n",
      "#63. Alien (1979)\n",
      "#62. The Lion King (1994)\n",
      "#61. The Shawshank Redemption (1994)\n",
      "#60. The Wild Bunch (1969)\n",
      "#59. Fantasia (1940)\n",
      "#58. Marriage Story (2019)\n",
      "#57. Manchester by the Sea (2016)\n",
      "#56. The Irishman (2019)\n",
      "#55. Chinatown (1974)\n",
      "#54. Spotlight (2015)\n",
      "#53. The Lord of the Rings: The Two Towers (2002)\n",
      "#52. The Dark Knight (2008)\n",
      "#51. Anatomy of a Murder (1959)\n",
      "#50. The Philadelphia Story (1940)\n",
      "#49. The Man Who Shot Liberty Valance (1962)\n",
      "#48. It's a Wonderful Life (1946)\n",
      "#47. Beauty and the Beast (1991)\n",
      "#46. There Will Be Blood (2007)\n",
      "#45. Toy Story 3 (2010)\n",
      "#44. The Adventures of Robin Hood (1938)\n",
      "#43. The Grapes of Wrath (1940)\n",
      "#42. A Streetcar Named Desire (1951)\n",
      "#41. The Maltese Falcon (1941)\n",
      "#40. Rosemary's Baby (1968)\n",
      "#39. Inside Out (2015)\n",
      "#38. Ratatouille (2007)\n",
      "#37. Star Wars: Episode IV - A New Hope (1977)\n",
      "#36. The Apartment (1960)\n",
      "#35. 12 Years a Slave (2013)\n",
      "#34. Taxi Driver (1976)\n",
      "#33. Goodfellas (1990)\n",
      "#32. Saving Private Ryan (1998)\n",
      "#31. Double Indemnity (1944)\n",
      "#30. Gone with the Wind (1939)\n",
      "#29. Apocalypse Now (1979)\n",
      "#28. Toy Story (1995)\n",
      "#27. The Night of the Hunter (1955)\n",
      "#26. Notorious (1946)\n",
      "#25. Touch of Evil (1958)\n",
      "#24. Some Like It Hot (1959)\n",
      "#23. Boyhood (2014)\n",
      "#22. WALL·E (2008)\n",
      "#21. The Treasure of the Sierra Madre (1948)\n",
      "#20. All About Eve (1950)\n",
      "#19. The Wizard of Oz (1939)\n",
      "#18. The Godfather: Part II (1974)\n",
      "#17. The Lord of the Rings: The Fellowship of the Ring (2001)\n",
      "#16. Sweet Smell of Success (1957)\n",
      "#15. Modern Times (1936)\n",
      "#14. North by Northwest (1959)\n",
      "#13. Dr. Strangelove or: How I Learned to Stop Worrying and Love the Bomb (1964)\n",
      "#12. Singin' in the Rain (1952)\n",
      "#11. Psycho (1960)\n",
      "#10. Vertigo (1958)\n",
      "#9. Citizen Kane (1941)\n",
      "#8. Schindler's List (1993)\n",
      "#7. The Lord of the Rings: The Return of the King (2003)\n",
      "#6. Pulp Fiction (1994)\n",
      "#5. City Lights (1931)\n",
      "#4. Rear Window (1954)\n",
      "#3. Casablanca (1942)\n",
      "#2. 12 Angry Men (1957)\n",
      "#1. The Godfather (1972)\n"
     ]
    }
   ],
   "source": [
    "\n",
    "try:\n",
    "    url = requests.get('https://stacker.com/stories/1587/100-best-movies-all-time')\n",
    "    url.raise_for_status()\n",
    "    soup = BeautifulSoup(url.text, 'html.parser')\n",
    "    movies = soup.find('div',class_ = 'dialog-off-canvas-main-canvas')\n",
    "    movies1 = movies.find('div', class_ = 'layout-content-main').find_all('h2', class_ = 'ct-slideshow__slide__text-container__caption')\n",
    "    for movie in movies1:\n",
    "        names = movie.find('div').get_text()\n",
    "        print(names)\n",
    "        sheet.append([names])\n",
    "except Exception as e:\n",
    "    print(e)\n",
    "file.save('Best Movies Of All Time.xlsx')"
   ]
  }
 ],
 "metadata": {
  "interpreter": {
   "hash": "5e02d0efff813a9368c354e505ea65821711dca306094a6f79d155d3e22f7a88"
  },
  "kernelspec": {
   "display_name": "Python 3.10.0 64-bit",
   "language": "python",
   "name": "python3"
  },
  "language_info": {
   "codemirror_mode": {
    "name": "ipython",
    "version": 3
   },
   "file_extension": ".py",
   "mimetype": "text/x-python",
   "name": "python",
   "nbconvert_exporter": "python",
   "pygments_lexer": "ipython3",
   "version": "3.10.0"
  },
  "orig_nbformat": 4
 },
 "nbformat": 4,
 "nbformat_minor": 2
}
